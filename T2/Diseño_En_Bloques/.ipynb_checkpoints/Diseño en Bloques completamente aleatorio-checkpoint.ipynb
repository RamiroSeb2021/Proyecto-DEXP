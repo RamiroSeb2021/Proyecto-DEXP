{
 "cells": [
  {
   "cell_type": "code",
   "execution_count": 1,
   "metadata": {},
   "outputs": [],
   "source": [
    "import pandas as pd\n",
    "import matplotlib.pyplot as plt\n",
    "import seaborn as sns\n",
    "\n",
    "from experimental_designs import (\n",
    "    CompletelyRandomizedBlockDesign, \n",
    "    CRBDWithMissingValue, \n",
    "    BalancedIncompleteBlockDesign,\n",
    "    BlockedDesignWithSubsampling\n",
    "    )"
   ]
  },
  {
   "cell_type": "markdown",
   "metadata": {},
   "source": [
    "## 🧪 Contexto del experimento: Producción de cebada y fuentes de nitrógeno\n",
    "\n",
    "### 🎯 Necesidad de investigación\n",
    "\n",
    "El objetivo de este estudio es evaluar el efecto de distintas **fuentes de nitrógeno** sobre la **producción de cebada**. Dado que el nitrógeno es un nutriente esencial en los cultivos, se desea identificar cuál de las seis fuentes probadas genera un mayor rendimiento. Sin embargo, se reconoce que el **tipo de suelo** puede influir en los resultados, por lo que debe ser considerado como un factor de bloqueo.\n",
    "\n",
    "### 🧮 Diseño del experimento\n",
    "\n",
    "- **Tratamientos:** 6 fuentes distintas de nitrógeno (`T1` a `T6`).\n",
    "- **Bloques:** 4 tipos de suelo (`S1` a `S4`).\n",
    "- **Variable de respuesta:** Producción de cebada en kilogramos por parcela.\n",
    "  - Es una variable cuantitativa continua que representa el rendimiento agrícola.\n",
    "- **Diseño:** Diseño en Bloques Completos Aleatorizados (DBCA), donde todos los tratamientos se prueban en todos los bloques.\n",
    "\n",
    "### ⚖️ Justificación del diseño\n",
    "\n",
    "Se utiliza un DBCA porque:\n",
    "- El tipo de suelo introduce variabilidad en la producción.\n",
    "- Al bloquear por tipo de suelo, se elimina esta fuente de variación no controlada.\n",
    "- Todos los tratamientos son aplicados en cada tipo de suelo (bloques completos), permitiendo una comparación más precisa de los efectos de los tratamientos."
   ]
  },
  {
   "cell_type": "code",
   "execution_count": null,
   "metadata": {},
   "outputs": [],
   "source": [
    "data = pd.read_csv(\"ejemplo_dbca.csv\")"
   ]
  },
  {
   "cell_type": "code",
   "execution_count": null,
   "metadata": {},
   "outputs": [],
   "source": [
    "data"
   ]
  },
  {
   "cell_type": "code",
   "execution_count": null,
   "metadata": {},
   "outputs": [],
   "source": [
    "# Crear gráfico de caja para visualizar la producción por tratamiento y suelo\n",
    "plt.figure(figsize=(10, 6))\n",
    "sns.boxplot(x=\"Tratamiento\", y=\"Produccion\", hue=\"Suelo\", data=data)\n",
    "plt.title(\"Producción de cebada por tratamiento y tipo de suelo\")\n",
    "plt.xlabel(\"Fuente de nitrógeno (Tratamiento)\")\n",
    "plt.ylabel(\"Producción (kg/parcela)\")\n",
    "plt.legend(title=\"Tipo de suelo\")\n",
    "plt.tight_layout()\n",
    "plt.show()"
   ]
  },
  {
   "cell_type": "markdown",
   "metadata": {},
   "source": [
    "🔍 Interpretación sugerida:\n",
    "\n",
    "+ Se observa variabilidad en la producción según el tratamiento.\n",
    "+ Algunos suelos parecen producir sistemáticamente más que otros.\n",
    "+ El tratamiento T5, por ejemplo, tiende a mostrar altos niveles de producción en todos los suelos.\n",
    "+ Este tipo de visualización es ideal para justificar la inclusión del factor bloque (suelo) en el modelo."
   ]
  },
  {
   "cell_type": "code",
   "execution_count": null,
   "metadata": {},
   "outputs": [],
   "source": [
    "crbd = CompletelyRandomizedBlockDesign(data)\n",
    "print(crbd.perform_anova())"
   ]
  },
  {
   "cell_type": "markdown",
   "metadata": {},
   "source": [
    "## 🧪 Ejemplo 2 – Diseño en Bloques Completos Aleatorizados con una Observación Faltante\n",
    "\n",
    "### 🎯 Necesidad de investigación\n",
    "\n",
    "En la práctica, los experimentos pueden enfrentar pérdidas de datos debido a errores, fallos técnicos o eventos externos. Este ejemplo trata sobre cómo abordar una observación faltante en un Diseño en Bloques Completos Aleatorizados (DBCA), estimarla correctamente y proceder con el análisis sin comprometer la validez del diseño.\n",
    "\n",
    "### 🧪 Diseño del experimento\n",
    "\n",
    "- **Tratamientos:** T1, T2 y T3\n",
    "- **Bloques:** B1, B2, B3, B4\n",
    "- **Observaciones:** Se registran valores para cada combinación Tratamiento–Bloque.\n",
    "- **Observación faltante:** Tratamiento T3 en el bloque B3.\n",
    "\n",
    "### 📏 Variable de respuesta\n",
    "\n",
    "- **Nombre:** `Respuesta`\n",
    "- **Descripción:** Variable continua que mide el efecto del tratamiento. Puede representar producción, concentración, tiempo, etc.\n",
    "\n",
    "### 🧮 Estimación del valor faltante\n",
    "\n",
    "Para conservar la estructura balanceada del diseño, se estima el valor faltante con la fórmula:\n",
    "\n",
    "$$\n",
    "\\hat{Y}_{ij} = \\bar{Y}_{i\\cdot} + \\bar{Y}_{\\cdot j} - \\bar{Y}_{\\cdot\\cdot}\n",
    "$$\n",
    "\n",
    "Donde:\n",
    "- $\\bar{Y}_{i\\cdot} $ es el promedio del bloque i,\n",
    "- $\\bar{Y}_{\\cdot j} $ es el promedio del tratamiento j,\n",
    "- $\\bar{Y}_{\\cdot\\cdot} $ es el promedio general de los datos disponibles.\n",
    "\n",
    "Esta técnica asegura que la estimación respete el balance del diseño y permite continuar con el análisis como si el dato no hubiera faltado."
   ]
  },
  {
   "cell_type": "code",
   "execution_count": null,
   "metadata": {},
   "outputs": [],
   "source": [
    "data2 = pd.read_csv(\"ejemplo_dbca_faltante.csv\")"
   ]
  },
  {
   "cell_type": "code",
   "execution_count": null,
   "metadata": {},
   "outputs": [],
   "source": [
    "data2"
   ]
  },
  {
   "cell_type": "code",
   "execution_count": null,
   "metadata": {},
   "outputs": [],
   "source": [
    "plt.figure(figsize=(8, 6))\n",
    "sns.heatmap(\n",
    "    data2.pivot(index=\"Bloque\", columns=\"Tratamiento\", values=\"Respuesta\"),\n",
    "    annot=True, cmap=\"YlGnBu\", cbar=False\n",
    ")\n",
    "plt.title(\"Observaciones registradas por bloque y tratamiento\")\n",
    "plt.xlabel(\"Tratamiento\")\n",
    "plt.ylabel(\"Bloque\")\n",
    "plt.tight_layout()\n",
    "plt.show()"
   ]
  },
  {
   "cell_type": "code",
   "execution_count": null,
   "metadata": {},
   "outputs": [],
   "source": [
    "crbd_mv = CRBDWithMissingValue(data2)\n",
    "print(\"Estimated missing value:\", crbd_mv.estimate_missing_value())\n",
    "print(crbd_mv.fill_and_analyze())"
   ]
  },
  {
   "cell_type": "markdown",
   "metadata": {},
   "source": [
    "## 🧪 Ejemplo 3 – Diseño en Bloques Incompletos Balanceados (BIBD)\n",
    "\n",
    "### 🎯 Necesidad de investigación\n",
    "\n",
    "Este experimento busca comparar el desempeño de distintos catalizadores en un proceso químico, midiendo el **tiempo de reacción**. Sin embargo, no todos los tratamientos pueden aplicarse en todos los bloques debido a restricciones logísticas. Esto motiva el uso de un **Diseño en Bloques Incompletos Balanceados (BIBD)**.\n",
    "\n",
    "### ⚙️ Diseño experimental\n",
    "\n",
    "- **Tratamientos:** 4 catalizadores distintos.\n",
    "- **Bloques:** 4 lotes de materia prima.\n",
    "- **Observaciones:** Cada lote contiene una submuestra de tratamientos.\n",
    "- **Diseño:** Bloques incompletos, pero balanceados, lo que permite hacer inferencias válidas.\n",
    "\n",
    "### 📏 Variable de respuesta\n",
    "\n",
    "- **Nombre:** `Tiempo`\n",
    "- **Descripción:** Tiempo de reacción del proceso químico, en segundos u otra unidad adecuada.\n",
    "- Es una variable cuantitativa continua.\n",
    "\n",
    "### 📐 Justificación del diseño\n",
    "\n",
    "- Permite controlar la variabilidad debida a los lotes, sin requerir la evaluación completa de todos los tratamientos en cada bloque.\n",
    "- Asegura balance en la cantidad de veces que aparece cada tratamiento.\n",
    "- Permite una comparación justa entre tratamientos bajo limitaciones prácticas.\n"
   ]
  },
  {
   "cell_type": "code",
   "execution_count": null,
   "metadata": {},
   "outputs": [],
   "source": [
    "data3 = pd.read_csv(\"ejemplo_dbib.csv\")"
   ]
  },
  {
   "cell_type": "code",
   "execution_count": null,
   "metadata": {},
   "outputs": [],
   "source": [
    "data3"
   ]
  },
  {
   "cell_type": "code",
   "execution_count": null,
   "metadata": {},
   "outputs": [],
   "source": [
    "plt.figure(figsize=(8, 6))\n",
    "sns.heatmap(\n",
    "    data3.pivot(index=\"Lote\", columns=\"Catalizador\", values=\"Tiempo\"),\n",
    "    annot=True, cmap=\"YlOrRd\", cbar=False\n",
    ")\n",
    "plt.title(\"Disponibilidad de observaciones por lote y catalizador\")\n",
    "plt.xlabel(\"Catalizador\")\n",
    "plt.ylabel(\"Lote\")\n",
    "plt.tight_layout()\n",
    "plt.show()"
   ]
  },
  {
   "cell_type": "markdown",
   "metadata": {},
   "source": [
    "🔍 Interpretación del gráfico\n",
    "+ Cada celda representa un valor observado de tiempo de reacción para una combinación de lote (bloque) y catalizador (tratamiento).\n",
    "+ Las celdas vacías indican combinaciones no observadas —característico de un BIBD, donde no todos los tratamientos se prueban en todos los bloques.\n",
    "+ Aun con esta incompletitud, el diseño está balanceado: todos los tratamientos aparecen el mismo número de veces y en diferentes bloques, permitiendo comparaciones válidas."
   ]
  },
  {
   "cell_type": "code",
   "execution_count": null,
   "metadata": {},
   "outputs": [],
   "source": [
    "bibd = BalancedIncompleteBlockDesign(data3)\n",
    "print(bibd.perform_anova())"
   ]
  },
  {
   "cell_type": "markdown",
   "metadata": {},
   "source": [
    "## 🧪 Ejemplo 4 – Diseño en Bloques Completos con Submuestreo (Balanceado y sin Confounding)\n",
    "\n",
    "### 🎯 Necesidad de investigación\n",
    "\n",
    "Este experimento busca evaluar el efecto de diferentes **fuentes de nitrógeno** sobre la **absorción de nitrógeno por plantas**, medida en distintos momentos del tiempo. Para mejorar la precisión de las estimaciones, se toman **dos submuestras por combinación** de tratamiento y bloque.\n",
    "\n",
    "A diferencia de versiones anteriores, este diseño está correctamente **balanceado**: todos los tratamientos aparecen en todos los bloques, y se evita el confounding entre efectos principales.\n",
    "\n",
    "### ⚙️ Diseño experimental\n",
    "\n",
    "- **Tratamientos:** 3 tipos de nitrógeno (`N1`, `N2`, `N3`)\n",
    "- **Bloques:** 3 tiempos (`TIEMPO = 0`, `1`, `2`)\n",
    "- **Submuestras por celda:** 2\n",
    "- **Total de observaciones:** 18 (3 tratamientos × 3 bloques × 2 submuestras)\n",
    "- **Diseño:** Bloques completamente aleatorizados con submuestreo (balanceado)\n",
    "\n",
    "### 📏 Variable de respuesta\n",
    "\n",
    "- **Nombre:** `CANTIDAD`\n",
    "- **Descripción:** Cantidad de nitrógeno absorbido, medida continua.\n",
    "\n",
    "### 📐 Modelo estadístico\n",
    "\n",
    "$\n",
    "y_{ijk} = \\mu + \\tau_i + \\beta_j + \\epsilon_{ij} + \\eta_{ijk}\n",
    "$\n",
    "\n",
    "- $ \\tau_i $: efecto del tratamiento\n",
    "- $ \\beta_j $: efecto del bloque\n",
    "- $ \\epsilon_{ij} $: variación entre unidades experimentales\n",
    "- $ \\eta_{ijk} $: variación entre submuestras\n",
    "\n",
    "Este modelo permite estimar los efectos principales y descomponer la varianza en niveles observacional y experimental.\n",
    "\n"
   ]
  },
  {
   "cell_type": "code",
   "execution_count": 2,
   "metadata": {},
   "outputs": [],
   "source": [
    "data4 = pd.read_csv(\"ejemplo_submuestreo.csv\")"
   ]
  },
  {
   "cell_type": "code",
   "execution_count": 3,
   "metadata": {},
   "outputs": [
    {
     "data": {
      "text/html": [
       "<div>\n",
       "<style scoped>\n",
       "    .dataframe tbody tr th:only-of-type {\n",
       "        vertical-align: middle;\n",
       "    }\n",
       "\n",
       "    .dataframe tbody tr th {\n",
       "        vertical-align: top;\n",
       "    }\n",
       "\n",
       "    .dataframe thead th {\n",
       "        text-align: right;\n",
       "    }\n",
       "</style>\n",
       "<table border=\"1\" class=\"dataframe\">\n",
       "  <thead>\n",
       "    <tr style=\"text-align: right;\">\n",
       "      <th></th>\n",
       "      <th>TIEMPO</th>\n",
       "      <th>NITROGENO</th>\n",
       "      <th>CANTIDAD</th>\n",
       "    </tr>\n",
       "  </thead>\n",
       "  <tbody>\n",
       "    <tr>\n",
       "      <th>0</th>\n",
       "      <td>0</td>\n",
       "      <td>N1</td>\n",
       "      <td>18</td>\n",
       "    </tr>\n",
       "    <tr>\n",
       "      <th>1</th>\n",
       "      <td>0</td>\n",
       "      <td>N1</td>\n",
       "      <td>20</td>\n",
       "    </tr>\n",
       "    <tr>\n",
       "      <th>2</th>\n",
       "      <td>0</td>\n",
       "      <td>N2</td>\n",
       "      <td>25</td>\n",
       "    </tr>\n",
       "    <tr>\n",
       "      <th>3</th>\n",
       "      <td>0</td>\n",
       "      <td>N2</td>\n",
       "      <td>26</td>\n",
       "    </tr>\n",
       "    <tr>\n",
       "      <th>4</th>\n",
       "      <td>0</td>\n",
       "      <td>N3</td>\n",
       "      <td>22</td>\n",
       "    </tr>\n",
       "    <tr>\n",
       "      <th>5</th>\n",
       "      <td>0</td>\n",
       "      <td>N3</td>\n",
       "      <td>21</td>\n",
       "    </tr>\n",
       "    <tr>\n",
       "      <th>6</th>\n",
       "      <td>1</td>\n",
       "      <td>N1</td>\n",
       "      <td>24</td>\n",
       "    </tr>\n",
       "    <tr>\n",
       "      <th>7</th>\n",
       "      <td>1</td>\n",
       "      <td>N1</td>\n",
       "      <td>27</td>\n",
       "    </tr>\n",
       "    <tr>\n",
       "      <th>8</th>\n",
       "      <td>1</td>\n",
       "      <td>N2</td>\n",
       "      <td>26</td>\n",
       "    </tr>\n",
       "    <tr>\n",
       "      <th>9</th>\n",
       "      <td>1</td>\n",
       "      <td>N2</td>\n",
       "      <td>30</td>\n",
       "    </tr>\n",
       "    <tr>\n",
       "      <th>10</th>\n",
       "      <td>1</td>\n",
       "      <td>N3</td>\n",
       "      <td>28</td>\n",
       "    </tr>\n",
       "    <tr>\n",
       "      <th>11</th>\n",
       "      <td>1</td>\n",
       "      <td>N3</td>\n",
       "      <td>29</td>\n",
       "    </tr>\n",
       "    <tr>\n",
       "      <th>12</th>\n",
       "      <td>2</td>\n",
       "      <td>N1</td>\n",
       "      <td>23</td>\n",
       "    </tr>\n",
       "    <tr>\n",
       "      <th>13</th>\n",
       "      <td>2</td>\n",
       "      <td>N1</td>\n",
       "      <td>22</td>\n",
       "    </tr>\n",
       "    <tr>\n",
       "      <th>14</th>\n",
       "      <td>2</td>\n",
       "      <td>N2</td>\n",
       "      <td>25</td>\n",
       "    </tr>\n",
       "    <tr>\n",
       "      <th>15</th>\n",
       "      <td>2</td>\n",
       "      <td>N2</td>\n",
       "      <td>24</td>\n",
       "    </tr>\n",
       "    <tr>\n",
       "      <th>16</th>\n",
       "      <td>2</td>\n",
       "      <td>N3</td>\n",
       "      <td>27</td>\n",
       "    </tr>\n",
       "    <tr>\n",
       "      <th>17</th>\n",
       "      <td>2</td>\n",
       "      <td>N3</td>\n",
       "      <td>26</td>\n",
       "    </tr>\n",
       "  </tbody>\n",
       "</table>\n",
       "</div>"
      ],
      "text/plain": [
       "    TIEMPO NITROGENO  CANTIDAD\n",
       "0        0        N1        18\n",
       "1        0        N1        20\n",
       "2        0        N2        25\n",
       "3        0        N2        26\n",
       "4        0        N3        22\n",
       "5        0        N3        21\n",
       "6        1        N1        24\n",
       "7        1        N1        27\n",
       "8        1        N2        26\n",
       "9        1        N2        30\n",
       "10       1        N3        28\n",
       "11       1        N3        29\n",
       "12       2        N1        23\n",
       "13       2        N1        22\n",
       "14       2        N2        25\n",
       "15       2        N2        24\n",
       "16       2        N3        27\n",
       "17       2        N3        26"
      ]
     },
     "execution_count": 3,
     "metadata": {},
     "output_type": "execute_result"
    }
   ],
   "source": [
    "data4"
   ]
  },
  {
   "cell_type": "code",
   "execution_count": 4,
   "metadata": {},
   "outputs": [
    {
     "data": {
      "image/png": "[encoded data removed]",
      "text/plain": [
       "<Figure size 800x600 with 1 Axes>"
      ]
     },
     "metadata": {},
     "output_type": "display_data"
    }
   ],
   "source": [
    "# Crear gráfico para visualizar todas las combinaciones tratamiento-bloque con submuestras\n",
    "plt.figure(figsize=(8, 6))\n",
    "sns.boxplot(x=\"NITROGENO\", y=\"CANTIDAD\", hue=\"TIEMPO\", data=data4)\n",
    "plt.title(\"Distribución de CANTIDAD por NITROGENO y TIEMPO (Submuestreo Balanceado)\")\n",
    "plt.xlabel(\"Fuente de Nitrógeno\")\n",
    "plt.ylabel(\"Cantidad absorbida\")\n",
    "plt.legend(title=\"Tiempo (Bloque)\")\n",
    "plt.tight_layout()\n",
    "plt.show()"
   ]
  },
  {
   "cell_type": "code",
   "execution_count": 5,
   "metadata": {},
   "outputs": [
    {
     "name": "stdout",
     "output_type": "stream",
     "text": [
      "                           sum_sq   df          F    PR(>F)\n",
      "C(TIEMPO)               85.444444  2.0  21.971429  0.000344\n",
      "C(NITROGENO)            47.444444  2.0  12.200000  0.002737\n",
      "C(NITROGENO):C(TIEMPO)  21.888889  4.0   2.814286  0.090917\n",
      "Residual                17.500000  9.0        NaN       NaN\n"
     ]
    }
   ],
   "source": [
    "# Renombrar columnas para ajustarse a la clase\n",
    "bdws = BlockedDesignWithSubsampling(\n",
    "    data=data4,\n",
    "    block_col=\"TIEMPO\",\n",
    "    treatment_col=\"NITROGENO\",\n",
    "    response_col=\"CANTIDAD\"\n",
    ")\n",
    "\n",
    "# Ejecutar el ANOVA anidado\n",
    "anova_result = bdws.perform_nested_anova()\n",
    "\n",
    "# Mostrar resultados\n",
    "print(anova_result)"
   ]
  }
 ],
 "metadata": {
  "kernelspec": {
   "display_name": "Python 3",
   "language": "python",
   "name": "python3"
  },
  "language_info": {
   "codemirror_mode": {
    "name": "ipython",
    "version": 3
   },
   "file_extension": ".py",
   "mimetype": "text/x-python",
   "name": "python",
   "nbconvert_exporter": "python",
   "pygments_lexer": "ipython3",
   "version": "3.11.9"
  }
 },
 "nbformat": 4,
 "nbformat_minor": 2
}
