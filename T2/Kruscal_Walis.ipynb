{
 "cells": [
  {
   "cell_type": "code",
   "execution_count": null,
   "id": "bca15fce-1fbb-4096-83d0-063ca3e7e09e",
   "metadata": {
    "colab": {
     "base_uri": "https://localhost:8080/"
    },
    "executionInfo": {
     "elapsed": 48,
     "status": "ok",
     "timestamp": 1741351619102,
     "user": {
      "displayName": "Sebastian Ramírez",
      "userId": "16313181887896291811"
     },
     "user_tz": 300
    },
    "id": "3iXdaAPMpKhH",
    "outputId": "8f410d7d-3d54-4577-f514-d032839e12da"
   },
   "outputs": [
    {
     "data": {
      "text/plain": [
       "0.7596153846153847"
      ]
     },
     "execution_count": 1,
     "metadata": {},
     "output_type": "execute_result"
    }
   ],
   "source": [
    "# Definir los valores de la expresión matemática\n",
    "numerador_factor = 12\n",
    "denominador_factor = 12 * 13\n",
    "\n",
    "# Cálculo de la parte dentro del corchete\n",
    "valores = [22.5, 24.5, 31]\n",
    "media = 26\n",
    "n = 4  # denominador de cada término dentro del corchete\n",
    "\n",
    "suma_cuadrados = sum([(x - media)**2 / n for x in valores])\n",
    "\n",
    "# Evaluar la expresión completa\n",
    "resultado = (numerador_factor / denominador_factor) * suma_cuadrados\n",
    "\n",
    "# Mostrar el resultado\n",
    "resultado"
   ]
  },
  {
   "cell_type": "code",
   "execution_count": null,
   "id": "9c878907-ebf8-4bbd-a218-5bf69e8abf3c",
   "metadata": {
    "colab": {
     "base_uri": "https://localhost:8080/",
     "height": 34
    },
    "executionInfo": {
     "elapsed": 26,
     "status": "ok",
     "timestamp": 1741351742729,
     "user": {
      "displayName": "Sebastian Ramírez",
      "userId": "16313181887896291811"
     },
     "user_tz": 300
    },
    "id": "aEZuL6krpZ7Y",
    "outputId": "9e9f48c6-7411-455d-fff1-89304b8f1c11"
   },
   "outputs": [
    {
     "data": {
      "text/html": [
       "7.81472790325118"
      ],
      "text/latex": [
       "7.81472790325118"
      ],
      "text/markdown": [
       "7.81472790325118"
      ],
      "text/plain": [
       "[1] 7.814728"
      ]
     },
     "metadata": {},
     "output_type": "display_data"
    }
   ],
   "source": [
    "qchisq(0.95, 3)"
   ]
  },
  {
   "cell_type": "code",
   "execution_count": null,
   "id": "14c69c5f-6e96-4069-974a-ee28e303ee02",
   "metadata": {
    "colab": {
     "base_uri": "https://localhost:8080/",
     "height": 474
    },
    "executionInfo": {
     "elapsed": 55,
     "status": "ok",
     "timestamp": 1741352191932,
     "user": {
      "displayName": "Sebastian Ramírez",
      "userId": "16313181887896291811"
     },
     "user_tz": 300
    },
    "id": "57qQKGu0qC0J",
    "outputId": "2953770b-30e9-4137-8f47-0ac53e7f9999"
   },
   "outputs": [
    {
     "data": {
      "text/html": [
       "<table class=\"dataframe\">\n",
       "<caption>A data.frame: 12 × 2</caption>\n",
       "<thead>\n",
       "\t<tr><th scope=col>valor</th><th scope=col>tratmientl</th></tr>\n",
       "\t<tr><th scope=col>&lt;dbl&gt;</th><th scope=col>&lt;chr&gt;</th></tr>\n",
       "</thead>\n",
       "<tbody>\n",
       "\t<tr><td>2.5</td><td>t1</td></tr>\n",
       "\t<tr><td>3.1</td><td>t1</td></tr>\n",
       "\t<tr><td>3.3</td><td>t1</td></tr>\n",
       "\t<tr><td>2.9</td><td>t1</td></tr>\n",
       "\t<tr><td>3.2</td><td>t2</td></tr>\n",
       "\t<tr><td>2.8</td><td>t2</td></tr>\n",
       "\t<tr><td>3.4</td><td>t2</td></tr>\n",
       "\t<tr><td>2.6</td><td>t2</td></tr>\n",
       "\t<tr><td>3.4</td><td>t3</td></tr>\n",
       "\t<tr><td>2.7</td><td>t3</td></tr>\n",
       "\t<tr><td>2.9</td><td>t3</td></tr>\n",
       "\t<tr><td>3.6</td><td>t3</td></tr>\n",
       "</tbody>\n",
       "</table>\n"
      ],
      "text/latex": [
       "A data.frame: 12 × 2\n",
       "\\begin{tabular}{ll}\n",
       " valor & tratmientl\\\\\n",
       " <dbl> & <chr>\\\\\n",
       "\\hline\n",
       "\t 2.5 & t1\\\\\n",
       "\t 3.1 & t1\\\\\n",
       "\t 3.3 & t1\\\\\n",
       "\t 2.9 & t1\\\\\n",
       "\t 3.2 & t2\\\\\n",
       "\t 2.8 & t2\\\\\n",
       "\t 3.4 & t2\\\\\n",
       "\t 2.6 & t2\\\\\n",
       "\t 3.4 & t3\\\\\n",
       "\t 2.7 & t3\\\\\n",
       "\t 2.9 & t3\\\\\n",
       "\t 3.6 & t3\\\\\n",
       "\\end{tabular}\n"
      ],
      "text/markdown": [
       "\n",
       "A data.frame: 12 × 2\n",
       "\n",
       "| valor &lt;dbl&gt; | tratmientl &lt;chr&gt; |\n",
       "|---|---|\n",
       "| 2.5 | t1 |\n",
       "| 3.1 | t1 |\n",
       "| 3.3 | t1 |\n",
       "| 2.9 | t1 |\n",
       "| 3.2 | t2 |\n",
       "| 2.8 | t2 |\n",
       "| 3.4 | t2 |\n",
       "| 2.6 | t2 |\n",
       "| 3.4 | t3 |\n",
       "| 2.7 | t3 |\n",
       "| 2.9 | t3 |\n",
       "| 3.6 | t3 |\n",
       "\n"
      ],
      "text/plain": [
       "   valor tratmientl\n",
       "1  2.5   t1        \n",
       "2  3.1   t1        \n",
       "3  3.3   t1        \n",
       "4  2.9   t1        \n",
       "5  3.2   t2        \n",
       "6  2.8   t2        \n",
       "7  3.4   t2        \n",
       "8  2.6   t2        \n",
       "9  3.4   t3        \n",
       "10 2.7   t3        \n",
       "11 2.9   t3        \n",
       "12 3.6   t3        "
      ]
     },
     "metadata": {},
     "output_type": "display_data"
    }
   ],
   "source": [
    "t1 = c(2.5, 3.1,3.3, 2.9)\n",
    "t2 = c(3.2, 2.8,3.4, 2.6)\n",
    "t3 = c(3.4, 2.7,2.9, 3.6)\n",
    "\n",
    "t1c = rep(\"t1\", 4)\n",
    "t2c = rep(\"t2\", 4)\n",
    "t3c = rep(\"t3\", 4)\n",
    "\n",
    "df = data.frame(\n",
    "  valor = c(t1,t2,t3),\n",
    "  tratmientl = c(t1c, t2c, t3c)\n",
    ")\n",
    "df"
   ]
  },
  {
   "cell_type": "code",
   "execution_count": null,
   "id": "42cdfea0-0dc7-4779-939a-d0bb8c668f11",
   "metadata": {
    "colab": {
     "base_uri": "https://localhost:8080/",
     "height": 104
    },
    "executionInfo": {
     "elapsed": 56,
     "status": "ok",
     "timestamp": 1741352293225,
     "user": {
      "displayName": "Sebastian Ramírez",
      "userId": "16313181887896291811"
     },
     "user_tz": 300
    },
    "id": "cBHx4zbnreDl",
    "outputId": "9d128528-32b6-4640-8608-b35153ea6552"
   },
   "outputs": [
    {
     "data": {
      "text/plain": [
       "\n",
       "\tKruskal-Wallis rank sum test\n",
       "\n",
       "data:  valor by tratmientl\n",
       "Kruskal-Wallis chi-squared = 0.76496, df = 2, p-value = 0.6822\n"
      ]
     },
     "metadata": {},
     "output_type": "display_data"
    }
   ],
   "source": [
    "kruskal.test(valor~tratmientl, data = df)"
   ]
  },
  {
   "cell_type": "code",
   "execution_count": null,
   "id": "589eea30-b1b6-477a-9f64-76e1c99daff8",
   "metadata": {
    "colab": {
     "base_uri": "https://localhost:8080/",
     "height": 52
    },
    "executionInfo": {
     "elapsed": 44,
     "status": "ok",
     "timestamp": 1741353266029,
     "user": {
      "displayName": "Sebastian Ramírez",
      "userId": "16313181887896291811"
     },
     "user_tz": 300
    },
    "id": "Pa6BZbsWtPJe",
    "outputId": "0300266e-8968-4659-efb7-d9494609e9c0"
   },
   "outputs": [
    {
     "data": {
      "text/html": [
       "<style>\n",
       ".list-inline {list-style: none; margin:0; padding: 0}\n",
       ".list-inline>li {display: inline-block}\n",
       ".list-inline>li:not(:last-child)::after {content: \"\\00b7\"; padding: 0 .5ex}\n",
       "</style>\n",
       "<ol class=list-inline><li>54</li><li>56</li><li>56</li><li>57</li><li>57</li><li>58</li><li>58</li><li>59</li><li>60</li><li>61</li><li>62</li><li>65</li><li>67</li><li>71</li><li>75</li><li>75</li><li>80</li><li>95</li><li>95</li><li>98</li><li>99</li><li>101</li><li>102</li><li>103</li><li>110</li><li>115</li><li>121</li></ol>\n"
      ],
      "text/latex": [
       "\\begin{enumerate*}\n",
       "\\item 54\n",
       "\\item 56\n",
       "\\item 56\n",
       "\\item 57\n",
       "\\item 57\n",
       "\\item 58\n",
       "\\item 58\n",
       "\\item 59\n",
       "\\item 60\n",
       "\\item 61\n",
       "\\item 62\n",
       "\\item 65\n",
       "\\item 67\n",
       "\\item 71\n",
       "\\item 75\n",
       "\\item 75\n",
       "\\item 80\n",
       "\\item 95\n",
       "\\item 95\n",
       "\\item 98\n",
       "\\item 99\n",
       "\\item 101\n",
       "\\item 102\n",
       "\\item 103\n",
       "\\item 110\n",
       "\\item 115\n",
       "\\item 121\n",
       "\\end{enumerate*}\n"
      ],
      "text/markdown": [
       "1. 54\n",
       "2. 56\n",
       "3. 56\n",
       "4. 57\n",
       "5. 57\n",
       "6. 58\n",
       "7. 58\n",
       "8. 59\n",
       "9. 60\n",
       "10. 61\n",
       "11. 62\n",
       "12. 65\n",
       "13. 67\n",
       "14. 71\n",
       "15. 75\n",
       "16. 75\n",
       "17. 80\n",
       "18. 95\n",
       "19. 95\n",
       "20. 98\n",
       "21. 99\n",
       "22. 101\n",
       "23. 102\n",
       "24. 103\n",
       "25. 110\n",
       "26. 115\n",
       "27. 121\n",
       "\n",
       "\n"
      ],
      "text/plain": [
       " [1]  54  56  56  57  57  58  58  59  60  61  62  65  67  71  75  75  80  95  95\n",
       "[20]  98  99 101 102 103 110 115 121"
      ]
     },
     "metadata": {},
     "output_type": "display_data"
    },
    {
     "data": {
      "text/html": [
       "<style>\n",
       ".list-inline {list-style: none; margin:0; padding: 0}\n",
       ".list-inline>li {display: inline-block}\n",
       ".list-inline>li:not(:last-child)::after {content: \"\\00b7\"; padding: 0 .5ex}\n",
       "</style>\n",
       "<ol class=list-inline><li>1</li><li>2</li><li>3</li><li>4</li><li>5</li><li>6</li><li>7</li><li>8</li><li>9</li><li>10</li><li>11</li><li>12</li><li>13</li><li>14</li><li>15</li><li>16</li><li>17</li><li>18</li><li>19</li><li>20</li><li>21</li><li>22</li><li>23</li><li>24</li><li>25</li><li>26</li><li>27</li></ol>\n"
      ],
      "text/latex": [
       "\\begin{enumerate*}\n",
       "\\item 1\n",
       "\\item 2\n",
       "\\item 3\n",
       "\\item 4\n",
       "\\item 5\n",
       "\\item 6\n",
       "\\item 7\n",
       "\\item 8\n",
       "\\item 9\n",
       "\\item 10\n",
       "\\item 11\n",
       "\\item 12\n",
       "\\item 13\n",
       "\\item 14\n",
       "\\item 15\n",
       "\\item 16\n",
       "\\item 17\n",
       "\\item 18\n",
       "\\item 19\n",
       "\\item 20\n",
       "\\item 21\n",
       "\\item 22\n",
       "\\item 23\n",
       "\\item 24\n",
       "\\item 25\n",
       "\\item 26\n",
       "\\item 27\n",
       "\\end{enumerate*}\n"
      ],
      "text/markdown": [
       "1. 1\n",
       "2. 2\n",
       "3. 3\n",
       "4. 4\n",
       "5. 5\n",
       "6. 6\n",
       "7. 7\n",
       "8. 8\n",
       "9. 9\n",
       "10. 10\n",
       "11. 11\n",
       "12. 12\n",
       "13. 13\n",
       "14. 14\n",
       "15. 15\n",
       "16. 16\n",
       "17. 17\n",
       "18. 18\n",
       "19. 19\n",
       "20. 20\n",
       "21. 21\n",
       "22. 22\n",
       "23. 23\n",
       "24. 24\n",
       "25. 25\n",
       "26. 26\n",
       "27. 27\n",
       "\n",
       "\n"
      ],
      "text/plain": [
       " [1]  1  2  3  4  5  6  7  8  9 10 11 12 13 14 15 16 17 18 19 20 21 22 23 24 25\n",
       "[26] 26 27"
      ]
     },
     "metadata": {},
     "output_type": "display_data"
    }
   ],
   "source": [
    "# Definir los vectores para cada columna\n",
    "col1 <- c(61, 71, 56, 95, 99, 80, 75, 62)\n",
    "col2 <- c(75, 102, 95, 103, 98, 115)\n",
    "col3 <- c(58, 60, 59, 65, 54, 57)\n",
    "col4 <- c(57, 121, 56, 58, 101, 110, 67)\n",
    "\n",
    "\n",
    "n = sort(c(col1, col2, col3, col4))\n",
    "n\n",
    "1:length(n)\n"
   ]
  },
  {
   "cell_type": "code",
   "execution_count": null,
   "id": "9f55e18a-ba94-4b4a-af32-6f6ee8133274",
   "metadata": {
    "colab": {
     "base_uri": "https://localhost:8080/"
    },
    "executionInfo": {
     "elapsed": 59,
     "status": "ok",
     "timestamp": 1741353621329,
     "user": {
      "displayName": "Sebastian Ramírez",
      "userId": "16313181887896291811"
     },
     "user_tz": 300
    },
    "id": "6DVzLtpNwYtt",
    "outputId": "5692cea5-4f1e-4f8e-cd59-e239be074312"
   },
   "outputs": [
    {
     "name": "stdout",
     "output_type": "stream",
     "text": [
      "[1] \"Suma de col1: 109.5\"\n",
      "[1] \"Suma de col2: 127\"\n",
      "[1] \"Suma de col3: 41\"\n",
      "[1] \"Suma de col4: 100.5\"\n"
     ]
    }
   ],
   "source": [
    "# Definir los vectores para cada columna\n",
    "col1 <- c(10, 14, 2.5, 18.5, 21, 17, 15.5, 11)\n",
    "col2 <- c(15.5, 23, 18.5, 24, 20, 26)\n",
    "col3 <- c(6.5, 9, 8, 12, 1, 4.5)\n",
    "col4 <- c(4.5, 27, 2.5, 6.5, 22, 25, 13)\n",
    "\n",
    "# Sumar cada columna\n",
    "suma_col1 <- sum(col1)\n",
    "suma_col2 <- sum(col2)\n",
    "suma_col3 <- sum(col3)\n",
    "suma_col4 <- sum(col4)\n",
    "\n",
    "# Mostrar las sumas\n",
    "print(paste(\"Suma de col1:\", suma_col1))\n",
    "print(paste(\"Suma de col2:\", suma_col2))\n",
    "print(paste(\"Suma de col3:\", suma_col3))\n",
    "print(paste(\"Suma de col4:\", suma_col4))"
   ]
  },
  {
   "cell_type": "code",
   "execution_count": null,
   "id": "d438e6ee-edfe-4f2d-889a-422b8d81bf3b",
   "metadata": {
    "colab": {
     "base_uri": "https://localhost:8080/",
     "height": 34
    },
    "executionInfo": {
     "elapsed": 68,
     "status": "ok",
     "timestamp": 1741354087794,
     "user": {
      "displayName": "Sebastian Ramírez",
      "userId": "16313181887896291811"
     },
     "user_tz": 300
    },
    "id": "igB_lK3lxs3w",
    "outputId": "e279f8fa-6f25-4fd4-e0ab-d7ab9bb1d663"
   },
   "outputs": [
    {
     "data": {
      "text/html": [
       "9.80964191232048"
      ],
      "text/latex": [
       "9.80964191232048"
      ],
      "text/markdown": [
       "9.80964191232048"
      ],
      "text/plain": [
       "[1] 9.809642"
      ]
     },
     "metadata": {},
     "output_type": "display_data"
    }
   ],
   "source": [
    "e = c(112, 84, 84, 98)\n",
    "b = c(suma_col1, suma_col2, suma_col3, suma_col4)\n",
    "\n",
    "d = c(8,6,6,7)\n",
    "\n",
    "factorm = 12/(27*28)\n",
    "\n",
    "sum(((b-e)^2)/d)*factorm"
   ]
  }
 ],
 "metadata": {
  "kernelspec": {
   "display_name": "Python 3 (ipykernel)",
   "language": "python",
   "name": "python3"
  },
  "language_info": {
   "codemirror_mode": {
    "name": "ipython",
    "version": 3
   },
   "file_extension": ".py",
   "mimetype": "text/x-python",
   "name": "python",
   "nbconvert_exporter": "python",
   "pygments_lexer": "ipython3",
   "version": "3.8.20"
  }
 },
 "nbformat": 4,
 "nbformat_minor": 5
}
